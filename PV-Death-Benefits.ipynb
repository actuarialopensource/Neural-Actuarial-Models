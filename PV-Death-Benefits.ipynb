{
 "cells": [
  {
   "cell_type": "code",
   "execution_count": 1,
   "metadata": {},
   "outputs": [],
   "source": [
    "import jax\n",
    "from jax import random\n",
    "import jax.numpy as jnp\n",
    "import numpy as onp\n",
    "import pymort"
   ]
  },
  {
   "cell_type": "markdown",
   "metadata": {},
   "source": [
    "This gives us the mortality table as a JAX array."
   ]
  },
  {
   "cell_type": "code",
   "execution_count": 9,
   "metadata": {},
   "outputs": [],
   "source": [
    "maleXML = pymort.load(\"2017 Loaded CSO Composite Male ALB  - t3289\")\n",
    "femaleXML = pymort.load(\"2017 Loaded CSO Composite Female ALB  - t3290\")\n",
    "maleRates = jnp.array(onp.squeeze(maleXML.Tables[1].Values.to_numpy()))\n",
    "femaleRates = jnp.array(onp.squeeze(femaleXML.Tables[1].Values.to_numpy()))\n",
    "# this is what we want\n",
    "mortalityRates = jnp.array([maleRates, femaleRates])"
   ]
  },
  {
   "cell_type": "markdown",
   "metadata": {},
   "source": [
    "Now we generate the model points."
   ]
  },
  {
   "cell_type": "code",
   "execution_count": 13,
   "metadata": {},
   "outputs": [],
   "source": [
    "key = random.PRNGKey(0)\n",
    "key, *subkeys = random.split(key, 10)\n",
    "\n",
    "model_points = 1000\n",
    "\n",
    "pols_inforce = jnp.ones(model_points)\n",
    "issue_age = random.randint(subkeys[0], (model_points,), 35, 55)\n",
    "gender = random.choice(key, a=jnp.array([0, 1]), shape=(model_points,), p=jnp.array([0.2, 0.8]))\n",
    "face = random.randint(subkeys[4], (model_points,), 1, 10) * 200_000"
   ]
  },
  {
   "cell_type": "markdown",
   "metadata": {},
   "source": [
    "This function calculates the present value of death benefits."
   ]
  },
  {
   "cell_type": "code",
   "execution_count": 14,
   "metadata": {},
   "outputs": [],
   "source": [
    "def getPVDB(interest_rate, mortalityRates, issue_age, gender, face):\n",
    "    PVDB = 0\n",
    "    pols_inforce = jnp.ones(model_points)\n",
    "    for t in range(120):\n",
    "        rates = mortalityRates[gender, issue_age + t]\n",
    "        PVDB += jnp.sum(pols_inforce * rates * face * pow(1 + interest_rate, -(t+1)))\n",
    "        pols_inforce -= pols_inforce * rates\n",
    "    return PVDB"
   ]
  },
  {
   "cell_type": "markdown",
   "metadata": {},
   "source": [
    "We can calculate the present value of death benefits."
   ]
  },
  {
   "cell_type": "code",
   "execution_count": 19,
   "metadata": {},
   "outputs": [
    {
     "data": {
      "text/plain": [
       "DeviceArray(1.3774626e+08, dtype=float32)"
      ]
     },
     "execution_count": 19,
     "metadata": {},
     "output_type": "execute_result"
    }
   ],
   "source": [
    "inputs = [.06, mortalityRates, issue_age, gender, face]\n",
    "getPVDB(*inputs)"
   ]
  },
  {
   "cell_type": "markdown",
   "metadata": {},
   "source": [
    "What is novel is that you can calculate the derivative with respect to assumptions."
   ]
  },
  {
   "cell_type": "code",
   "execution_count": 26,
   "metadata": {},
   "outputs": [
    {
     "name": "stdout",
     "output_type": "stream",
     "text": [
      "d_di -3722314800.0\n"
     ]
    }
   ],
   "source": [
    "getPVDB_grad = jax.value_and_grad(getPVDB, argnums=(0,1))\n",
    "PVDB, (d_di, d_dmort) = getPVDB_grad(*inputs)\n",
    "print('d_di', d_di)"
   ]
  },
  {
   "cell_type": "markdown",
   "metadata": {},
   "source": [
    "Supposing you have a high dimensional space of assumptions/margins you might even use gradient descent to set the \"most adverse\" assumption."
   ]
  }
 ],
 "metadata": {
  "interpreter": {
   "hash": "9ed3bff3b308b37b2f46d1f440742a36a9f67b4f8ecbedc7475a1189bd17a49e"
  },
  "kernelspec": {
   "display_name": "Python 3.10.4 ('neural-actuarial')",
   "language": "python",
   "name": "python3"
  },
  "language_info": {
   "codemirror_mode": {
    "name": "ipython",
    "version": 3
   },
   "file_extension": ".py",
   "mimetype": "text/x-python",
   "name": "python",
   "nbconvert_exporter": "python",
   "pygments_lexer": "ipython3",
   "version": "3.10.4"
  },
  "orig_nbformat": 4
 },
 "nbformat": 4,
 "nbformat_minor": 2
}
